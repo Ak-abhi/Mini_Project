{
 "cells": [
  {
   "cell_type": "code",
   "execution_count": 1,
   "id": "8c713fb6",
   "metadata": {},
   "outputs": [],
   "source": [
    "#Importing packages\n",
    "\n",
    "import pandas as pd\n",
    "import numpy as np\n",
    "\n",
    "from sklearn.model_selection import train_test_split\n",
    "from sklearn.preprocessing import StandardScaler\n",
    "\n",
    "#Importing algorithms\n",
    "\n",
    "from sklearn.linear_model import LogisticRegression\n",
    "from sklearn.neighbors import KNeighborsClassifier\n",
    "from sklearn.svm import SVC\n",
    "from sklearn.naive_bayes import GaussianNB\n",
    "from sklearn.tree import DecisionTreeClassifier\n",
    "from sklearn.ensemble import RandomForestClassifier\n",
    "\n",
    "from sklearn.metrics import accuracy_score, confusion_matrix, classification_report\n",
    "\n",
    "from matplotlib import pyplot as plt\n",
    "import seaborn as sns"
   ]
  },
  {
   "cell_type": "code",
   "execution_count": 2,
   "id": "27a5f40a",
   "metadata": {},
   "outputs": [],
   "source": [
    "#Loading the dataset\n",
    "dataset = pd.read_csv('water_potability.csv')"
   ]
  },
  {
   "cell_type": "code",
   "execution_count": 3,
   "id": "a303a0fd",
   "metadata": {},
   "outputs": [
    {
     "name": "stdout",
     "output_type": "stream",
     "text": [
      "            ph    Hardness       Solids  Chloramines     Sulfate  \\\n",
      "0          NaN  204.890456  20791.31898     7.300212  368.516441   \n",
      "1     3.716080  129.422921  18630.05786     6.635246         NaN   \n",
      "2     8.099124  224.236259  19909.54173     9.275884         NaN   \n",
      "3     8.316766  214.373394  22018.41744     8.059332  356.886136   \n",
      "4     9.092223  181.101509  17978.98634     6.546600  310.135738   \n",
      "...        ...         ...          ...          ...         ...   \n",
      "7001  4.668102  193.681736  47580.99160     7.166639  359.948574   \n",
      "7002  7.808856  193.553212  17329.80216     8.061362         NaN   \n",
      "7003  9.419510  175.762646  33155.57822     7.350233         NaN   \n",
      "7004  5.126763  230.603758  11983.86938     6.303357         NaN   \n",
      "7005  7.874671  195.102299  17404.17706     7.509306         NaN   \n",
      "\n",
      "      Conductivity  Organic_carbon  Trihalomethanes  Turbidity  Potability  \n",
      "0       564.308654       10.379783        86.990970   2.963135           0  \n",
      "1       592.885359       15.180013        56.329076   4.500656           0  \n",
      "2       418.606213       16.868637        66.420093   3.055934           0  \n",
      "3       363.266516       18.436525       100.341674   4.628771           0  \n",
      "4       398.410813       11.558279        31.997993   4.075075           0  \n",
      "...            ...             ...              ...        ...         ...  \n",
      "7001    526.424171       13.894419        66.687695   4.435821           1  \n",
      "7002    392.449580       19.903225              NaN   2.798243           1  \n",
      "7003    432.044783       11.039070        69.845400   3.298875           1  \n",
      "7004    402.883113       11.168946        77.488213   4.708658           1  \n",
      "7005    327.459761       16.140368        78.698446   2.309149           1  \n",
      "\n",
      "[7006 rows x 10 columns]\n"
     ]
    }
   ],
   "source": [
    "#Displaying dataset\n",
    "print(dataset)"
   ]
  },
  {
   "cell_type": "code",
   "execution_count": 4,
   "id": "da0bc78e",
   "metadata": {},
   "outputs": [
    {
     "name": "stdout",
     "output_type": "stream",
     "text": [
      "<class 'pandas.core.frame.DataFrame'>\n",
      "RangeIndex: 7006 entries, 0 to 7005\n",
      "Data columns (total 10 columns):\n",
      " #   Column           Non-Null Count  Dtype  \n",
      "---  ------           --------------  -----  \n",
      " 0   ph               6025 non-null   float64\n",
      " 1   Hardness         7006 non-null   float64\n",
      " 2   Solids           7006 non-null   float64\n",
      " 3   Chloramines      7006 non-null   float64\n",
      " 4   Sulfate          5444 non-null   float64\n",
      " 5   Conductivity     7006 non-null   float64\n",
      " 6   Organic_carbon   7006 non-null   float64\n",
      " 7   Trihalomethanes  6682 non-null   float64\n",
      " 8   Turbidity        7006 non-null   float64\n",
      " 9   Potability       7006 non-null   int64  \n",
      "dtypes: float64(9), int64(1)\n",
      "memory usage: 547.5 KB\n"
     ]
    }
   ],
   "source": [
    "#Information of dataset\n",
    "dataset.info()"
   ]
  },
  {
   "cell_type": "code",
   "execution_count": 5,
   "id": "d9795b17",
   "metadata": {},
   "outputs": [
    {
     "data": {
      "text/html": [
       "<div>\n",
       "<style scoped>\n",
       "    .dataframe tbody tr th:only-of-type {\n",
       "        vertical-align: middle;\n",
       "    }\n",
       "\n",
       "    .dataframe tbody tr th {\n",
       "        vertical-align: top;\n",
       "    }\n",
       "\n",
       "    .dataframe thead th {\n",
       "        text-align: right;\n",
       "    }\n",
       "</style>\n",
       "<table border=\"1\" class=\"dataframe\">\n",
       "  <thead>\n",
       "    <tr style=\"text-align: right;\">\n",
       "      <th></th>\n",
       "      <th>ph</th>\n",
       "      <th>Hardness</th>\n",
       "      <th>Solids</th>\n",
       "      <th>Chloramines</th>\n",
       "      <th>Sulfate</th>\n",
       "      <th>Conductivity</th>\n",
       "      <th>Organic_carbon</th>\n",
       "      <th>Trihalomethanes</th>\n",
       "      <th>Turbidity</th>\n",
       "      <th>Potability</th>\n",
       "    </tr>\n",
       "  </thead>\n",
       "  <tbody>\n",
       "    <tr>\n",
       "      <th>count</th>\n",
       "      <td>6025.000000</td>\n",
       "      <td>7006.000000</td>\n",
       "      <td>7006.000000</td>\n",
       "      <td>7006.000000</td>\n",
       "      <td>5444.000000</td>\n",
       "      <td>7006.000000</td>\n",
       "      <td>7006.000000</td>\n",
       "      <td>6682.000000</td>\n",
       "      <td>7006.000000</td>\n",
       "      <td>7006.000000</td>\n",
       "    </tr>\n",
       "    <tr>\n",
       "      <th>mean</th>\n",
       "      <td>7.083113</td>\n",
       "      <td>196.386923</td>\n",
       "      <td>22083.329754</td>\n",
       "      <td>7.133219</td>\n",
       "      <td>333.411737</td>\n",
       "      <td>425.804703</td>\n",
       "      <td>14.300435</td>\n",
       "      <td>66.342135</td>\n",
       "      <td>3.966189</td>\n",
       "      <td>0.403083</td>\n",
       "    </tr>\n",
       "    <tr>\n",
       "      <th>std</th>\n",
       "      <td>1.587555</td>\n",
       "      <td>32.961363</td>\n",
       "      <td>8729.126592</td>\n",
       "      <td>1.589265</td>\n",
       "      <td>41.857407</td>\n",
       "      <td>80.602296</td>\n",
       "      <td>3.312002</td>\n",
       "      <td>16.226687</td>\n",
       "      <td>0.781585</td>\n",
       "      <td>0.490552</td>\n",
       "    </tr>\n",
       "    <tr>\n",
       "      <th>min</th>\n",
       "      <td>0.000000</td>\n",
       "      <td>47.432000</td>\n",
       "      <td>320.942611</td>\n",
       "      <td>0.352000</td>\n",
       "      <td>129.000000</td>\n",
       "      <td>181.483754</td>\n",
       "      <td>2.200000</td>\n",
       "      <td>0.738000</td>\n",
       "      <td>1.450000</td>\n",
       "      <td>0.000000</td>\n",
       "    </tr>\n",
       "    <tr>\n",
       "      <th>25%</th>\n",
       "      <td>6.096128</td>\n",
       "      <td>176.854553</td>\n",
       "      <td>15778.729400</td>\n",
       "      <td>6.132235</td>\n",
       "      <td>307.398492</td>\n",
       "      <td>365.687520</td>\n",
       "      <td>12.079948</td>\n",
       "      <td>55.803503</td>\n",
       "      <td>3.440753</td>\n",
       "      <td>0.000000</td>\n",
       "    </tr>\n",
       "    <tr>\n",
       "      <th>50%</th>\n",
       "      <td>7.039094</td>\n",
       "      <td>197.315653</td>\n",
       "      <td>21046.448520</td>\n",
       "      <td>7.144281</td>\n",
       "      <td>332.823799</td>\n",
       "      <td>421.990447</td>\n",
       "      <td>14.242669</td>\n",
       "      <td>66.639068</td>\n",
       "      <td>3.955847</td>\n",
       "      <td>0.000000</td>\n",
       "    </tr>\n",
       "    <tr>\n",
       "      <th>75%</th>\n",
       "      <td>8.062066</td>\n",
       "      <td>216.759837</td>\n",
       "      <td>27381.501942</td>\n",
       "      <td>8.118115</td>\n",
       "      <td>360.086901</td>\n",
       "      <td>480.680392</td>\n",
       "      <td>16.559229</td>\n",
       "      <td>77.360985</td>\n",
       "      <td>4.508705</td>\n",
       "      <td>1.000000</td>\n",
       "    </tr>\n",
       "    <tr>\n",
       "      <th>max</th>\n",
       "      <td>14.000000</td>\n",
       "      <td>323.124000</td>\n",
       "      <td>61227.196010</td>\n",
       "      <td>13.127000</td>\n",
       "      <td>481.030642</td>\n",
       "      <td>753.342620</td>\n",
       "      <td>28.300000</td>\n",
       "      <td>124.000000</td>\n",
       "      <td>6.739000</td>\n",
       "      <td>1.000000</td>\n",
       "    </tr>\n",
       "  </tbody>\n",
       "</table>\n",
       "</div>"
      ],
      "text/plain": [
       "                ph     Hardness        Solids  Chloramines      Sulfate  \\\n",
       "count  6025.000000  7006.000000   7006.000000  7006.000000  5444.000000   \n",
       "mean      7.083113   196.386923  22083.329754     7.133219   333.411737   \n",
       "std       1.587555    32.961363   8729.126592     1.589265    41.857407   \n",
       "min       0.000000    47.432000    320.942611     0.352000   129.000000   \n",
       "25%       6.096128   176.854553  15778.729400     6.132235   307.398492   \n",
       "50%       7.039094   197.315653  21046.448520     7.144281   332.823799   \n",
       "75%       8.062066   216.759837  27381.501942     8.118115   360.086901   \n",
       "max      14.000000   323.124000  61227.196010    13.127000   481.030642   \n",
       "\n",
       "       Conductivity  Organic_carbon  Trihalomethanes    Turbidity   Potability  \n",
       "count   7006.000000     7006.000000      6682.000000  7006.000000  7006.000000  \n",
       "mean     425.804703       14.300435        66.342135     3.966189     0.403083  \n",
       "std       80.602296        3.312002        16.226687     0.781585     0.490552  \n",
       "min      181.483754        2.200000         0.738000     1.450000     0.000000  \n",
       "25%      365.687520       12.079948        55.803503     3.440753     0.000000  \n",
       "50%      421.990447       14.242669        66.639068     3.955847     0.000000  \n",
       "75%      480.680392       16.559229        77.360985     4.508705     1.000000  \n",
       "max      753.342620       28.300000       124.000000     6.739000     1.000000  "
      ]
     },
     "execution_count": 5,
     "metadata": {},
     "output_type": "execute_result"
    }
   ],
   "source": [
    "#Description of dataset\n",
    "dataset.describe()"
   ]
  },
  {
   "cell_type": "code",
   "execution_count": 6,
   "id": "9e7ff0fc",
   "metadata": {},
   "outputs": [],
   "source": [
    "#Checking whether the dataset has null values\n",
    "null_val = dataset.isnull().sum()"
   ]
  },
  {
   "cell_type": "code",
   "execution_count": 7,
   "id": "c8167476",
   "metadata": {},
   "outputs": [
    {
     "name": "stdout",
     "output_type": "stream",
     "text": [
      "ph                  981\n",
      "Hardness              0\n",
      "Solids                0\n",
      "Chloramines           0\n",
      "Sulfate            1562\n",
      "Conductivity          0\n",
      "Organic_carbon        0\n",
      "Trihalomethanes     324\n",
      "Turbidity             0\n",
      "Potability            0\n",
      "dtype: int64\n"
     ]
    }
   ],
   "source": [
    "print(null_val)"
   ]
  },
  {
   "cell_type": "code",
   "execution_count": 8,
   "id": "ce550762",
   "metadata": {},
   "outputs": [],
   "source": [
    "#Filling the null values by taking median of the values\n",
    "dataset['ph'].fillna(dataset['ph'].median(), inplace=True)\n",
    "dataset['Sulfate'].fillna(dataset['Sulfate'].median(), inplace=True)\n",
    "dataset['Trihalomethanes'].fillna(dataset['Trihalomethanes'].median(), inplace=True)"
   ]
  },
  {
   "cell_type": "code",
   "execution_count": 9,
   "id": "4c0226da",
   "metadata": {},
   "outputs": [
    {
     "data": {
      "text/plain": [
       "ph                 0\n",
       "Hardness           0\n",
       "Solids             0\n",
       "Chloramines        0\n",
       "Sulfate            0\n",
       "Conductivity       0\n",
       "Organic_carbon     0\n",
       "Trihalomethanes    0\n",
       "Turbidity          0\n",
       "Potability         0\n",
       "dtype: int64"
      ]
     },
     "execution_count": 9,
     "metadata": {},
     "output_type": "execute_result"
    }
   ],
   "source": [
    "dataset.isnull().sum()"
   ]
  },
  {
   "cell_type": "code",
   "execution_count": 10,
   "id": "d2c8cab4",
   "metadata": {},
   "outputs": [],
   "source": [
    "#Splitting the dataset\n",
    "X = dataset.drop(['Potability'], axis=1)\n",
    "y = dataset['Potability']"
   ]
  },
  {
   "cell_type": "code",
   "execution_count": 11,
   "id": "b30a844c",
   "metadata": {},
   "outputs": [],
   "source": [
    "#Splitting the dataset : for training 80% and testing 20%\n",
    "X_train, X_valid, y_train, y_valid = train_test_split(X, y, test_size = 0.2, random_state = 42)"
   ]
  },
  {
   "cell_type": "code",
   "execution_count": 12,
   "id": "4daba6fa",
   "metadata": {},
   "outputs": [
    {
     "data": {
      "text/html": [
       "<div>\n",
       "<style scoped>\n",
       "    .dataframe tbody tr th:only-of-type {\n",
       "        vertical-align: middle;\n",
       "    }\n",
       "\n",
       "    .dataframe tbody tr th {\n",
       "        vertical-align: top;\n",
       "    }\n",
       "\n",
       "    .dataframe thead th {\n",
       "        text-align: right;\n",
       "    }\n",
       "</style>\n",
       "<table border=\"1\" class=\"dataframe\">\n",
       "  <thead>\n",
       "    <tr style=\"text-align: right;\">\n",
       "      <th></th>\n",
       "      <th>ph</th>\n",
       "      <th>Hardness</th>\n",
       "      <th>Solids</th>\n",
       "      <th>Chloramines</th>\n",
       "      <th>Sulfate</th>\n",
       "      <th>Conductivity</th>\n",
       "      <th>Organic_carbon</th>\n",
       "      <th>Trihalomethanes</th>\n",
       "      <th>Turbidity</th>\n",
       "    </tr>\n",
       "  </thead>\n",
       "  <tbody>\n",
       "    <tr>\n",
       "      <th>2499</th>\n",
       "      <td>7.038348</td>\n",
       "      <td>199.597943</td>\n",
       "      <td>23951.105990</td>\n",
       "      <td>8.229993</td>\n",
       "      <td>320.483754</td>\n",
       "      <td>419.662200</td>\n",
       "      <td>11.964072</td>\n",
       "      <td>63.925554</td>\n",
       "      <td>4.575578</td>\n",
       "    </tr>\n",
       "    <tr>\n",
       "      <th>5296</th>\n",
       "      <td>7.701033</td>\n",
       "      <td>121.575139</td>\n",
       "      <td>16978.926830</td>\n",
       "      <td>6.812416</td>\n",
       "      <td>354.250252</td>\n",
       "      <td>368.224575</td>\n",
       "      <td>12.997263</td>\n",
       "      <td>69.260209</td>\n",
       "      <td>3.395483</td>\n",
       "    </tr>\n",
       "    <tr>\n",
       "      <th>4903</th>\n",
       "      <td>6.320428</td>\n",
       "      <td>210.310043</td>\n",
       "      <td>11682.229320</td>\n",
       "      <td>6.968423</td>\n",
       "      <td>311.777822</td>\n",
       "      <td>375.964558</td>\n",
       "      <td>11.973422</td>\n",
       "      <td>62.960463</td>\n",
       "      <td>4.553381</td>\n",
       "    </tr>\n",
       "    <tr>\n",
       "      <th>387</th>\n",
       "      <td>7.039094</td>\n",
       "      <td>143.300200</td>\n",
       "      <td>16263.167470</td>\n",
       "      <td>6.229737</td>\n",
       "      <td>332.823799</td>\n",
       "      <td>503.664085</td>\n",
       "      <td>19.585497</td>\n",
       "      <td>66.639068</td>\n",
       "      <td>3.451740</td>\n",
       "    </tr>\n",
       "    <tr>\n",
       "      <th>1918</th>\n",
       "      <td>5.808976</td>\n",
       "      <td>157.552238</td>\n",
       "      <td>7965.207918</td>\n",
       "      <td>6.680188</td>\n",
       "      <td>262.995756</td>\n",
       "      <td>377.697283</td>\n",
       "      <td>17.401039</td>\n",
       "      <td>69.461111</td>\n",
       "      <td>3.599933</td>\n",
       "    </tr>\n",
       "    <tr>\n",
       "      <th>...</th>\n",
       "      <td>...</td>\n",
       "      <td>...</td>\n",
       "      <td>...</td>\n",
       "      <td>...</td>\n",
       "      <td>...</td>\n",
       "      <td>...</td>\n",
       "      <td>...</td>\n",
       "      <td>...</td>\n",
       "      <td>...</td>\n",
       "    </tr>\n",
       "    <tr>\n",
       "      <th>3772</th>\n",
       "      <td>7.145772</td>\n",
       "      <td>238.689929</td>\n",
       "      <td>28780.340430</td>\n",
       "      <td>6.814029</td>\n",
       "      <td>385.975650</td>\n",
       "      <td>332.032706</td>\n",
       "      <td>11.093163</td>\n",
       "      <td>66.138045</td>\n",
       "      <td>5.182591</td>\n",
       "    </tr>\n",
       "    <tr>\n",
       "      <th>5191</th>\n",
       "      <td>7.451889</td>\n",
       "      <td>203.200286</td>\n",
       "      <td>15825.182570</td>\n",
       "      <td>6.754242</td>\n",
       "      <td>332.823799</td>\n",
       "      <td>348.952903</td>\n",
       "      <td>11.094898</td>\n",
       "      <td>91.493087</td>\n",
       "      <td>3.930081</td>\n",
       "    </tr>\n",
       "    <tr>\n",
       "      <th>5226</th>\n",
       "      <td>7.695049</td>\n",
       "      <td>153.809783</td>\n",
       "      <td>11598.682370</td>\n",
       "      <td>8.053642</td>\n",
       "      <td>332.823799</td>\n",
       "      <td>297.675877</td>\n",
       "      <td>12.907351</td>\n",
       "      <td>73.688742</td>\n",
       "      <td>3.198879</td>\n",
       "    </tr>\n",
       "    <tr>\n",
       "      <th>5390</th>\n",
       "      <td>7.670506</td>\n",
       "      <td>123.336644</td>\n",
       "      <td>33843.619450</td>\n",
       "      <td>5.216369</td>\n",
       "      <td>390.745826</td>\n",
       "      <td>462.967639</td>\n",
       "      <td>18.698730</td>\n",
       "      <td>82.904657</td>\n",
       "      <td>3.933826</td>\n",
       "    </tr>\n",
       "    <tr>\n",
       "      <th>860</th>\n",
       "      <td>8.783168</td>\n",
       "      <td>218.032840</td>\n",
       "      <td>16183.586650</td>\n",
       "      <td>7.390474</td>\n",
       "      <td>334.053885</td>\n",
       "      <td>389.021616</td>\n",
       "      <td>16.354520</td>\n",
       "      <td>47.100982</td>\n",
       "      <td>4.274137</td>\n",
       "    </tr>\n",
       "  </tbody>\n",
       "</table>\n",
       "<p>5604 rows × 9 columns</p>\n",
       "</div>"
      ],
      "text/plain": [
       "            ph    Hardness        Solids  Chloramines     Sulfate  \\\n",
       "2499  7.038348  199.597943  23951.105990     8.229993  320.483754   \n",
       "5296  7.701033  121.575139  16978.926830     6.812416  354.250252   \n",
       "4903  6.320428  210.310043  11682.229320     6.968423  311.777822   \n",
       "387   7.039094  143.300200  16263.167470     6.229737  332.823799   \n",
       "1918  5.808976  157.552238   7965.207918     6.680188  262.995756   \n",
       "...        ...         ...           ...          ...         ...   \n",
       "3772  7.145772  238.689929  28780.340430     6.814029  385.975650   \n",
       "5191  7.451889  203.200286  15825.182570     6.754242  332.823799   \n",
       "5226  7.695049  153.809783  11598.682370     8.053642  332.823799   \n",
       "5390  7.670506  123.336644  33843.619450     5.216369  390.745826   \n",
       "860   8.783168  218.032840  16183.586650     7.390474  334.053885   \n",
       "\n",
       "      Conductivity  Organic_carbon  Trihalomethanes  Turbidity  \n",
       "2499    419.662200       11.964072        63.925554   4.575578  \n",
       "5296    368.224575       12.997263        69.260209   3.395483  \n",
       "4903    375.964558       11.973422        62.960463   4.553381  \n",
       "387     503.664085       19.585497        66.639068   3.451740  \n",
       "1918    377.697283       17.401039        69.461111   3.599933  \n",
       "...            ...             ...              ...        ...  \n",
       "3772    332.032706       11.093163        66.138045   5.182591  \n",
       "5191    348.952903       11.094898        91.493087   3.930081  \n",
       "5226    297.675877       12.907351        73.688742   3.198879  \n",
       "5390    462.967639       18.698730        82.904657   3.933826  \n",
       "860     389.021616       16.354520        47.100982   4.274137  \n",
       "\n",
       "[5604 rows x 9 columns]"
      ]
     },
     "execution_count": 12,
     "metadata": {},
     "output_type": "execute_result"
    }
   ],
   "source": [
    "X_train"
   ]
  },
  {
   "cell_type": "code",
   "execution_count": 13,
   "id": "32cc476e",
   "metadata": {},
   "outputs": [],
   "source": [
    "#Standardising the values in the range between 0 and 1 \n",
    "sc = StandardScaler()\n",
    "X_train = sc.fit_transform(X_train)\n",
    "X_valid = sc.fit_transform(X_valid)"
   ]
  },
  {
   "cell_type": "code",
   "execution_count": 14,
   "id": "da1f7c66",
   "metadata": {},
   "outputs": [
    {
     "data": {
      "text/plain": [
       "array([[-0.02282379,  0.0968987 ,  0.21529421, ..., -0.71363891,\n",
       "        -0.14623796,  0.76945839],\n",
       "       [ 0.43015099, -2.27398165, -0.58129561, ..., -0.40169143,\n",
       "         0.19198612, -0.73943256],\n",
       "       [-0.51355374,  0.42240748, -1.18645724, ..., -0.71081588,\n",
       "        -0.20742603,  0.74107608],\n",
       "       ...,\n",
       "       [ 0.4260611 , -1.29446696, -1.1960027 , ..., -0.42883832,\n",
       "         0.47276088, -0.99081334],\n",
       "       [ 0.40928448, -2.22045478,  1.34553991, ...,  1.31973043,\n",
       "         1.0570619 , -0.05109677],\n",
       "       [ 1.16983814,  0.65708025, -0.67216532, ...,  0.61195223,\n",
       "        -1.21293774,  0.38403004]])"
      ]
     },
     "execution_count": 14,
     "metadata": {},
     "output_type": "execute_result"
    }
   ],
   "source": [
    "X_train"
   ]
  },
  {
   "cell_type": "code",
   "execution_count": 15,
   "id": "09044293",
   "metadata": {},
   "outputs": [
    {
     "data": {
      "text/plain": [
       "2499    0\n",
       "5296    1\n",
       "4903    1\n",
       "387     1\n",
       "1918    1\n",
       "       ..\n",
       "3772    0\n",
       "5191    0\n",
       "5226    1\n",
       "5390    0\n",
       "860     0\n",
       "Name: Potability, Length: 5604, dtype: int64"
      ]
     },
     "execution_count": 15,
     "metadata": {},
     "output_type": "execute_result"
    }
   ],
   "source": [
    "y_train"
   ]
  },
  {
   "cell_type": "code",
   "execution_count": 16,
   "id": "18b7dbaa",
   "metadata": {},
   "outputs": [
    {
     "data": {
      "image/png": "[encoded data removed]",
      "text/plain": [
       "<Figure size 720x72 with 1 Axes>"
      ]
     },
     "metadata": {
      "needs_background": "light"
     },
     "output_type": "display_data"
    }
   ],
   "source": [
    "colors= sns.color_palette(\"mako\", 10)\n",
    "sns.palplot(colors)"
   ]
  },
  {
   "cell_type": "code",
   "execution_count": 17,
   "id": "6e11efff",
   "metadata": {},
   "outputs": [
    {
     "name": "stdout",
     "output_type": "stream",
     "text": [
      "              precision    recall  f1-score   support\n",
      "\n",
      "           0       0.62      1.00      0.76       856\n",
      "           1       0.92      0.02      0.04       546\n",
      "\n",
      "    accuracy                           0.62      1402\n",
      "   macro avg       0.77      0.51      0.40      1402\n",
      "weighted avg       0.74      0.62      0.48      1402\n",
      "\n"
     ]
    },
    {
     "data": {
      "text/plain": [
       "0.618"
      ]
     },
     "execution_count": 17,
     "metadata": {},
     "output_type": "execute_result"
    },
    {
     "data": {
      "image/png": "[encoded data removed]",
      "text/plain": [
       "<Figure size 432x288 with 2 Axes>"
      ]
     },
     "metadata": {
      "needs_background": "light"
     },
     "output_type": "display_data"
    }
   ],
   "source": [
    "#Implementing LogisticRegression\n",
    "model_1 = LogisticRegression(random_state = 42)\n",
    "model_1.fit(X_train, y_train)\n",
    "\n",
    "y_pred = model_1.predict(X_valid)\n",
    "\n",
    "cm = confusion_matrix(y_valid, y_pred)\n",
    "sns.heatmap(cm, annot=True, fmt='d', cmap=colors)\n",
    "acc_1 = round(accuracy_score(y_valid, y_pred), 3)\n",
    "\n",
    "print(classification_report(y_valid, y_pred))\n",
    "acc_1"
   ]
  },
  {
   "cell_type": "code",
   "execution_count": 18,
   "id": "145b6d27",
   "metadata": {},
   "outputs": [
    {
     "name": "stdout",
     "output_type": "stream",
     "text": [
      "              precision    recall  f1-score   support\n",
      "\n",
      "           0       0.78      0.81      0.80       856\n",
      "           1       0.69      0.63      0.66       546\n",
      "\n",
      "    accuracy                           0.74      1402\n",
      "   macro avg       0.73      0.72      0.73      1402\n",
      "weighted avg       0.74      0.74      0.74      1402\n",
      "\n"
     ]
    },
    {
     "data": {
      "text/plain": [
       "0.744"
      ]
     },
     "execution_count": 18,
     "metadata": {},
     "output_type": "execute_result"
    },
    {
     "data": {
      "image/png": "[encoded data removed]",
      "text/plain": [
       "<Figure size 432x288 with 2 Axes>"
      ]
     },
     "metadata": {
      "needs_background": "light"
     },
     "output_type": "display_data"
    }
   ],
   "source": [
    "#Implementing KNN\n",
    "model_2 = KNeighborsClassifier(n_neighbors = 5)\n",
    "model_2.fit(X_train, y_train)\n",
    "\n",
    "y_pred = model_2.predict(X_valid)\n",
    "\n",
    "cm = confusion_matrix(y_valid, y_pred)\n",
    "sns.heatmap(cm, annot=True, fmt='d', cmap=colors)\n",
    "\n",
    "acc_2 = round(accuracy_score(y_valid, y_pred), 3)\n",
    "\n",
    "print(classification_report(y_valid, y_pred))\n",
    "acc_2"
   ]
  },
  {
   "cell_type": "code",
   "execution_count": 19,
   "id": "de792d5c",
   "metadata": {},
   "outputs": [
    {
     "name": "stdout",
     "output_type": "stream",
     "text": [
      "              precision    recall  f1-score   support\n",
      "\n",
      "           0       0.73      0.92      0.81       856\n",
      "           1       0.78      0.47      0.58       546\n",
      "\n",
      "    accuracy                           0.74      1402\n",
      "   macro avg       0.75      0.69      0.70      1402\n",
      "weighted avg       0.75      0.74      0.72      1402\n",
      "\n"
     ]
    },
    {
     "data": {
      "text/plain": [
       "0.74"
      ]
     },
     "execution_count": 19,
     "metadata": {},
     "output_type": "execute_result"
    },
    {
     "data": {
      "image/png": "[encoded data removed]",
      "text/plain": [
       "<Figure size 432x288 with 2 Axes>"
      ]
     },
     "metadata": {
      "needs_background": "light"
     },
     "output_type": "display_data"
    }
   ],
   "source": [
    "#Implementing SupportVectorClassifier\n",
    "model_3 = SVC(kernel = 'rbf', random_state = 42)\n",
    "model_3.fit(X_train, y_train)\n",
    "\n",
    "y_pred = model_3.predict(X_valid)\n",
    "cm = confusion_matrix(y_valid, y_pred)\n",
    "sns.heatmap(cm, annot=True, fmt='d', cmap=colors)\n",
    "\n",
    "acc_3 = round(accuracy_score(y_valid, y_pred), 3)\n",
    "\n",
    "print(classification_report(y_valid, y_pred))\n",
    "acc_3"
   ]
  },
  {
   "cell_type": "code",
   "execution_count": 20,
   "id": "64e4cbdb",
   "metadata": {},
   "outputs": [
    {
     "name": "stdout",
     "output_type": "stream",
     "text": [
      "              precision    recall  f1-score   support\n",
      "\n",
      "           0       0.64      0.84      0.73       856\n",
      "           1       0.51      0.25      0.34       546\n",
      "\n",
      "    accuracy                           0.61      1402\n",
      "   macro avg       0.57      0.55      0.53      1402\n",
      "weighted avg       0.59      0.61      0.57      1402\n",
      "\n"
     ]
    },
    {
     "data": {
      "text/plain": [
       "0.613"
      ]
     },
     "execution_count": 20,
     "metadata": {},
     "output_type": "execute_result"
    },
    {
     "data": {
      "image/png": "[encoded data removed]",
      "text/plain": [
       "<Figure size 432x288 with 2 Axes>"
      ]
     },
     "metadata": {
      "needs_background": "light"
     },
     "output_type": "display_data"
    }
   ],
   "source": [
    "#Implementing Naive Bayes\n",
    "model_4 = GaussianNB()\n",
    "model_4.fit(X_train, y_train)\n",
    "\n",
    "y_pred = model_4.predict(X_valid)\n",
    "cm = confusion_matrix(y_valid, y_pred)\n",
    "sns.heatmap(cm, annot=True, fmt='d', cmap=colors)\n",
    "\n",
    "acc_4 = round(accuracy_score(y_valid, y_pred), 3)\n",
    "print(classification_report(y_valid, y_pred))\n",
    "acc_4"
   ]
  },
  {
   "cell_type": "code",
   "execution_count": 21,
   "id": "9882aec8",
   "metadata": {},
   "outputs": [
    {
     "name": "stdout",
     "output_type": "stream",
     "text": [
      "              precision    recall  f1-score   support\n",
      "\n",
      "           0       0.94      0.96      0.95       856\n",
      "           1       0.94      0.90      0.92       546\n",
      "\n",
      "    accuracy                           0.94      1402\n",
      "   macro avg       0.94      0.93      0.94      1402\n",
      "weighted avg       0.94      0.94      0.94      1402\n",
      "\n"
     ]
    },
    {
     "data": {
      "text/plain": [
       "0.94"
      ]
     },
     "execution_count": 21,
     "metadata": {},
     "output_type": "execute_result"
    },
    {
     "data": {
      "image/png": "[encoded data removed]",
      "text/plain": [
       "<Figure size 432x288 with 2 Axes>"
      ]
     },
     "metadata": {
      "needs_background": "light"
     },
     "output_type": "display_data"
    }
   ],
   "source": [
    "#Implementing RandomForestClassifier\n",
    "model_5 = RandomForestClassifier(n_estimators = 100, criterion = 'entropy', random_state = 42)\n",
    "model_5.fit(X_train, y_train)\n",
    "\n",
    "y_pred = model_5.predict(X_valid)\n",
    "cm = confusion_matrix(y_valid, y_pred)\n",
    "sns.heatmap(cm, annot=True, fmt='d', cmap=colors)\n",
    "\n",
    "acc_5 = round(accuracy_score(y_valid, y_pred), 3)\n",
    "print(classification_report(y_valid, y_pred))\n",
    "acc_5"
   ]
  },
  {
   "cell_type": "code",
   "execution_count": 22,
   "id": "887753e2",
   "metadata": {},
   "outputs": [
    {
     "name": "stdout",
     "output_type": "stream",
     "text": [
      "              precision    recall  f1-score   support\n",
      "\n",
      "           0       0.90      0.85      0.88       856\n",
      "           1       0.79      0.85      0.82       546\n",
      "\n",
      "    accuracy                           0.85      1402\n",
      "   macro avg       0.84      0.85      0.85      1402\n",
      "weighted avg       0.86      0.85      0.85      1402\n",
      "\n"
     ]
    },
    {
     "data": {
      "text/plain": [
       "0.852"
      ]
     },
     "execution_count": 22,
     "metadata": {},
     "output_type": "execute_result"
    },
    {
     "data": {
      "image/png": "[encoded data removed]",
      "text/plain": [
       "<Figure size 432x288 with 2 Axes>"
      ]
     },
     "metadata": {
      "needs_background": "light"
     },
     "output_type": "display_data"
    }
   ],
   "source": [
    "#Implementing DecisionTreeClassifier\n",
    "model_6 = DecisionTreeClassifier(criterion = 'entropy', random_state = 42)\n",
    "model_6.fit(X_train, y_train)\n",
    "\n",
    "y_pred = model_6.predict(X_valid)\n",
    "cm = confusion_matrix(y_valid, y_pred)\n",
    "sns.heatmap(cm, annot=True, fmt='d', cmap=colors)\n",
    "\n",
    "acc_6 = round(accuracy_score(y_valid, y_pred), 3)\n",
    "print(classification_report(y_valid, y_pred))\n",
    "acc_6"
   ]
  },
  {
   "cell_type": "code",
   "execution_count": 23,
   "id": "7d945cfd",
   "metadata": {},
   "outputs": [
    {
     "data": {
      "text/html": [
       "<div>\n",
       "<style scoped>\n",
       "    .dataframe tbody tr th:only-of-type {\n",
       "        vertical-align: middle;\n",
       "    }\n",
       "\n",
       "    .dataframe tbody tr th {\n",
       "        vertical-align: top;\n",
       "    }\n",
       "\n",
       "    .dataframe thead th {\n",
       "        text-align: right;\n",
       "    }\n",
       "</style>\n",
       "<table border=\"1\" class=\"dataframe\">\n",
       "  <thead>\n",
       "    <tr style=\"text-align: right;\">\n",
       "      <th></th>\n",
       "      <th>Model</th>\n",
       "      <th>Score</th>\n",
       "    </tr>\n",
       "  </thead>\n",
       "  <tbody>\n",
       "    <tr>\n",
       "      <th>4</th>\n",
       "      <td>Random Forest</td>\n",
       "      <td>0.940</td>\n",
       "    </tr>\n",
       "    <tr>\n",
       "      <th>5</th>\n",
       "      <td>Decision Tree</td>\n",
       "      <td>0.852</td>\n",
       "    </tr>\n",
       "    <tr>\n",
       "      <th>1</th>\n",
       "      <td>KNN</td>\n",
       "      <td>0.744</td>\n",
       "    </tr>\n",
       "    <tr>\n",
       "      <th>2</th>\n",
       "      <td>SVC</td>\n",
       "      <td>0.740</td>\n",
       "    </tr>\n",
       "    <tr>\n",
       "      <th>0</th>\n",
       "      <td>Logistic Regression</td>\n",
       "      <td>0.618</td>\n",
       "    </tr>\n",
       "    <tr>\n",
       "      <th>3</th>\n",
       "      <td>Naive Bayes</td>\n",
       "      <td>0.613</td>\n",
       "    </tr>\n",
       "  </tbody>\n",
       "</table>\n",
       "</div>"
      ],
      "text/plain": [
       "                 Model  Score\n",
       "4        Random Forest  0.940\n",
       "5        Decision Tree  0.852\n",
       "1                  KNN  0.744\n",
       "2                  SVC  0.740\n",
       "0  Logistic Regression  0.618\n",
       "3          Naive Bayes  0.613"
      ]
     },
     "execution_count": 23,
     "metadata": {},
     "output_type": "execute_result"
    }
   ],
   "source": [
    "#Listing the accuracy scores of different algorithms\n",
    "model_accuracy = pd.DataFrame({\n",
    "    'Model': ['Logistic Regression', 'KNN', 'SVC', 'Naive Bayes', 'Random Forest', 'Decision Tree'],\n",
    "    'Score': [acc_1, acc_2, acc_3, acc_4, acc_5, acc_6]})\n",
    "model_accuracy = model_accuracy.sort_values(by='Score', ascending=False)\n",
    "model_accuracy"
   ]
  },
  {
   "cell_type": "code",
   "execution_count": 60,
   "id": "cf2c8325",
   "metadata": {},
   "outputs": [
    {
     "data": {
      "image/png": "[encoded data removed]",
      "text/plain": [
       "<Figure size 432x288 with 1 Axes>"
      ]
     },
     "metadata": {
      "needs_background": "light"
     },
     "output_type": "display_data"
    }
   ],
   "source": [
    "training_accuracy = []\n",
    "test_accuracy = []\n",
    "# try max_depth from 1 to 30\n",
    "depth = range(1,30)\n",
    "for n in depth:\n",
    "    test = RandomForestClassifier(n_estimators = 100, criterion = 'entropy', random_state = 42, max_depth=n)\n",
    "\n",
    "    test.fit(X_train, y_train)\n",
    "    # record training set accuracy\n",
    "    training_accuracy.append(test.score(X_train, y_train))\n",
    "    # record generalization accuracy\n",
    "    test_accuracy.append(test.score(X_valid, y_valid))\n",
    "   \n",
    "\n",
    " #plotting the training & testing accuracy for max_depth from 1 to 30\n",
    "plt.plot(depth, training_accuracy, label=\"training accuracy\")\n",
    "plt.plot(depth, test_accuracy, label=\"test accuracy\")\n",
    "plt.ylabel(\"Accuracy\")  \n",
    "plt.xlabel(\"max_depth\")\n",
    "plt.legend();"
   ]
  },
  {
   "cell_type": "code",
   "execution_count": 47,
   "id": "e154841e",
   "metadata": {},
   "outputs": [],
   "source": [
    "#import pickle \n",
    "#pickle.dump(model_5,open('Random.pkl','wb'))"
   ]
  },
  {
   "cell_type": "code",
   "execution_count": null,
   "id": "45e30836",
   "metadata": {},
   "outputs": [],
   "source": [
    "# !pip install gradio"
   ]
  },
  {
   "cell_type": "code",
   "execution_count": null,
   "id": "83720851",
   "metadata": {},
   "outputs": [],
   "source": [
    "# ran = RandomForestClassifier()\n",
    "# ran.fit(X_train,y_train)\n",
    "# inp={[9.092223,181.101509,17978.986339,6.546600,310.135738,398.410813,11.558279,31.997993,4.075075]}\n",
    "\n",
    "# pred = ran.predict(inp)\n",
    "# print(pred)"
   ]
  },
  {
   "cell_type": "code",
   "execution_count": 24,
   "id": "18272a71",
   "metadata": {},
   "outputs": [
    {
     "name": "stderr",
     "output_type": "stream",
     "text": [
      "C:\\Users\\User\\anaconda3\\lib\\site-packages\\gradio\\inputs.py:88: UserWarning: Usage of gradio.inputs is deprecated, and will not be supported in the future, please import your component from gradio.components\n",
      "  warnings.warn(\n",
      "C:\\Users\\User\\anaconda3\\lib\\site-packages\\gradio\\deprecation.py:40: UserWarning: `optional` parameter is deprecated, and it has no effect\n",
      "  warnings.warn(value)\n"
     ]
    },
    {
     "name": "stdout",
     "output_type": "stream",
     "text": [
      "Running on local URL:  http://127.0.0.1:7860\n",
      "\n",
      "To create a public link, set `share=True` in `launch()`.\n"
     ]
    },
    {
     "data": {
      "text/html": [
       "<div><iframe src=\"http://127.0.0.1:7860/\" width=\"100%\" height=\"500\" allow=\"autoplay; camera; microphone; clipboard-read; clipboard-write;\" frameborder=\"0\" allowfullscreen></iframe></div>"
      ],
      "text/plain": [
       "<IPython.core.display.HTML object>"
      ]
     },
     "metadata": {},
     "output_type": "display_data"
    },
    {
     "data": {
      "text/plain": [
       "(<gradio.routes.App at 0x1c6dfc60e20>, 'http://127.0.0.1:7860/', None)"
      ]
     },
     "execution_count": 24,
     "metadata": {},
     "output_type": "execute_result"
    }
   ],
   "source": [
    "import gradio as gr\n",
    "\n",
    "\n",
    "\n",
    "def interfacewater(ph, Hardness,Solids, Chloramines, Sulfate, Conductivity, Organic_carbon, Trihalomethanes, Turbidity):\n",
    "    inp=[[ph, Hardness,Solids, Chloramines, Sulfate, Conductivity, Organic_carbon, Trihalomethanes, Turbidity]]\n",
    "\n",
    "    rf = RandomForestClassifier()\n",
    "    rf.fit(X_train,y_train)\n",
    "    pred = rf.predict(inp)\n",
    "    #print(pred)\n",
    "    res=\"\"\n",
    "    if pred == 1:\n",
    "        res=\"Drinkable\"\n",
    "    else:\n",
    "        res=\"Not Drinkable\"\n",
    "    #print(res)\n",
    "    return(res)\n",
    "   \n",
    "\n",
    "\n",
    "    #interfacewater(10.04967372,132.8328367,11557.03204,8.550572663,323.508072,442.7680497,13.37614863,92.17616984,5.133477823)\n",
    "\n",
    "\n",
    "\n",
    "\n",
    "# interface=gr.Interface(fn=interfacewater,inputs=[\"text\",\"text\",\"text\",\"text\",\"text\",\"text\",\"text\",\"text\",\"text\"],outputs=['text'])\n",
    "interface=gr.Interface(fn=interfacewater,\n",
    "                       inputs=[gr.inputs.Slider(0,14,label = \"pH value\"),\n",
    "                               gr.inputs.Slider(0,350,label = \"Hardness\"),\n",
    "                               gr.inputs.Slider(0,62000,label = \"Solids\"),\n",
    "                               gr.inputs.Slider(0,15,label = \"Chloramines\"),\n",
    "                               gr.inputs.Slider(0,500,label = \"Sulfate\"),\n",
    "                               gr.inputs.Slider(0,800,label = \"Conductivity\"),\n",
    "                               gr.inputs.Slider(0,30,label = \"Organic_carbon\"),\n",
    "                               gr.inputs.Slider(0,150,label = \"Trihalomethanes\"),\n",
    "                               gr.inputs.Slider(0,8,label = \"Turbidity\")],outputs=['text'])\n",
    "\n",
    "interface.launch()"
   ]
  },
  {
   "cell_type": "code",
   "execution_count": null,
   "id": "79f51ded",
   "metadata": {},
   "outputs": [],
   "source": []
  }
 ],
 "metadata": {
  "kernelspec": {
   "display_name": "Python 3 (ipykernel)",
   "language": "python",
   "name": "python3"
  },
  "language_info": {
   "codemirror_mode": {
    "name": "ipython",
    "version": 3
   },
   "file_extension": ".py",
   "mimetype": "text/x-python",
   "name": "python",
   "nbconvert_exporter": "python",
   "pygments_lexer": "ipython3",
   "version": "3.9.12"
  }
 },
 "nbformat": 4,
 "nbformat_minor": 5
}
